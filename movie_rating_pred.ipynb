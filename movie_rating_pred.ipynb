{
  "nbformat": 4,
  "nbformat_minor": 0,
  "metadata": {
    "colab": {
      "provenance": []
    },
    "kernelspec": {
      "name": "python3",
      "display_name": "Python 3"
    },
    "language_info": {
      "name": "python"
    }
  },
  "cells": [
    {
      "cell_type": "code",
      "execution_count": 1,
      "metadata": {
        "colab": {
          "base_uri": "https://localhost:8080/"
        },
        "id": "R9M3_0lGkNRj",
        "outputId": "1d0b403a-678a-4fbf-9d28-be01e08f874f"
      },
      "outputs": [
        {
          "output_type": "stream",
          "name": "stdout",
          "text": [
            "First few rows:\n",
            "   Budget  Runtime  Votes  Rating\n",
            "0     100      120   1500     7.2\n",
            "1     150      150   2500     8.0\n",
            "2     200      180   3500     8.5\n",
            "3     120      110   1200     6.8\n",
            "4      80      100    800     6.0\n",
            "\n",
            "Mean Squared Error: 0.022500000000001706\n",
            "R2 Score: nan\n",
            "\n",
            "Predicted Movie Rating: 5.129999999999988\n"
          ]
        },
        {
          "output_type": "stream",
          "name": "stderr",
          "text": [
            "/usr/local/lib/python3.11/dist-packages/sklearn/metrics/_regression.py:1266: UndefinedMetricWarning: R^2 score is not well-defined with less than two samples.\n",
            "  warnings.warn(msg, UndefinedMetricWarning)\n",
            "/usr/local/lib/python3.11/dist-packages/sklearn/utils/validation.py:2739: UserWarning: X does not have valid feature names, but LinearRegression was fitted with feature names\n",
            "  warnings.warn(\n"
          ]
        }
      ],
      "source": [
        "# Movie Rating Prediction – CodSoft\n",
        "\n",
        "# Step 1: Import Libraries\n",
        "import pandas as pd\n",
        "from sklearn.model_selection import train_test_split\n",
        "from sklearn.linear_model import LinearRegression\n",
        "from sklearn.metrics import mean_squared_error, r2_score\n",
        "\n",
        "# Step 2: Load Dataset\n",
        "# Example dataset (replace with your actual dataset if available)\n",
        "data = {\n",
        "    'Budget': [100, 150, 200, 120, 80],\n",
        "    'Runtime': [120, 150, 180, 110, 100],\n",
        "    'Votes': [1500, 2500, 3500, 1200, 800],\n",
        "    'Rating': [7.2, 8.0, 8.5, 6.8, 6.0]\n",
        "}\n",
        "df = pd.DataFrame(data)\n",
        "\n",
        "# If using CSV:\n",
        "# df = pd.read_csv('movies.csv')\n",
        "\n",
        "# Step 3: Data Overview\n",
        "print(\"First few rows:\")\n",
        "print(df.head())\n",
        "\n",
        "# Step 4: Split Features and Target\n",
        "X = df[['Budget', 'Runtime', 'Votes']]\n",
        "y = df['Rating']\n",
        "\n",
        "# Step 5: Train-test Split\n",
        "X_train, X_test, y_train, y_test = train_test_split(X, y, test_size=0.2, random_state=42)\n",
        "\n",
        "# Step 6: Model Training\n",
        "model = LinearRegression()\n",
        "model.fit(X_train, y_train)\n",
        "\n",
        "# Step 7: Predictions\n",
        "y_pred = model.predict(X_test)\n",
        "\n",
        "# Step 8: Evaluation\n",
        "print(\"\\nMean Squared Error:\", mean_squared_error(y_test, y_pred))\n",
        "print(\"R2 Score:\", r2_score(y_test, y_pred))\n",
        "\n",
        "# Step 9: Single Movie Prediction Example\n",
        "sample = [[130, 140, 2000]]  # Budget, Runtime, Votes\n",
        "predicted_rating = model.predict(sample)\n",
        "print(\"\\nPredicted Movie Rating:\", predicted_rating[0])\n"
      ]
    }
  ]
}
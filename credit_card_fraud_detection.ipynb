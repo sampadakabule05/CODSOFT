{
  "cells": [
    {
      "cell_type": "code",
      "execution_count": 2,
      "metadata": {
        "colab": {
          "base_uri": "https://localhost:8080/"
        },
        "id": "rhYkwmkITewg",
        "outputId": "1ed26c4a-543c-4b05-f18a-fcabfb7b42f8"
      },
      "outputs": [
        {
          "output_type": "stream",
          "name": "stdout",
          "text": [
            "1\n",
            "Accuracy: 0.9995819397993311\n",
            "Classification Report:\n",
            "               precision    recall  f1-score   support\n",
            "\n",
            "         0.0       1.00      1.00      1.00      2378\n",
            "         1.0       1.00      0.93      0.96        14\n",
            "\n",
            "    accuracy                           1.00      2392\n",
            "   macro avg       1.00      0.96      0.98      2392\n",
            "weighted avg       1.00      1.00      1.00      2392\n",
            "\n",
            "Confusion Matrix:\n",
            " [[2378    0]\n",
            " [   1   13]]\n"
          ]
        }
      ],
      "source": [
        "import pandas as pd\n",
        "from sklearn.model_selection import train_test_split\n",
        "from sklearn.ensemble import RandomForestClassifier\n",
        "from sklearn.metrics import accuracy_score, classification_report, confusion_matrix\n",
        "\n",
        "# Load dataset\n",
        "df = pd.read_csv('creditcard.csv')\n",
        "\n",
        "# Check for missing values in target column\n",
        "print(df['Class'].isnull().sum())\n",
        "\n",
        "# Drop rows with missing target values\n",
        "df = df.dropna(subset=['Class'])\n",
        "\n",
        "# Define features and target\n",
        "X = df.drop('Class', axis=1)\n",
        "y = df['Class']\n",
        "\n",
        "# Split data\n",
        "X_train, X_test, y_train, y_test = train_test_split(X, y, test_size=0.2, random_state=42)\n",
        "\n",
        "# Initialize and train RandomForest\n",
        "clf = RandomForestClassifier()\n",
        "clf.fit(X_train, y_train)\n",
        "\n",
        "# Predictions\n",
        "y_pred = clf.predict(X_test)\n",
        "\n",
        "# Evaluation\n",
        "print(\"Accuracy:\", accuracy_score(y_test, y_pred))\n",
        "print(\"Classification Report:\\n\", classification_report(y_test, y_pred))\n",
        "print(\"Confusion Matrix:\\n\", confusion_matrix(y_test, y_pred))\n"
      ]
    }
  ],
  "metadata": {
    "colab": {
      "provenance": []
    },
    "kernelspec": {
      "display_name": "Python 3",
      "name": "python3"
    },
    "language_info": {
      "name": "python"
    }
  },
  "nbformat": 4,
  "nbformat_minor": 0
}
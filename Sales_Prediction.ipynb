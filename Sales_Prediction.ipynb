{
  "nbformat": 4,
  "nbformat_minor": 0,
  "metadata": {
    "colab": {
      "provenance": []
    },
    "kernelspec": {
      "name": "python3",
      "display_name": "Python 3"
    },
    "language_info": {
      "name": "python"
    }
  },
  "cells": [
    {
      "cell_type": "code",
      "execution_count": 1,
      "metadata": {
        "colab": {
          "base_uri": "https://localhost:8080/"
        },
        "id": "Ve7i6bizaRlB",
        "outputId": "e72498bc-4de1-4c21-9136-7f3f166065ad"
      },
      "outputs": [
        {
          "output_type": "stream",
          "name": "stdout",
          "text": [
            "Mean Squared Error: 1.944203071055234\n",
            "R2 Score: nan\n",
            "Predicted Sales: 19.13948663433759\n"
          ]
        },
        {
          "output_type": "stream",
          "name": "stderr",
          "text": [
            "/usr/local/lib/python3.11/dist-packages/sklearn/metrics/_regression.py:1266: UndefinedMetricWarning: R^2 score is not well-defined with less than two samples.\n",
            "  warnings.warn(msg, UndefinedMetricWarning)\n",
            "/usr/local/lib/python3.11/dist-packages/sklearn/utils/validation.py:2739: UserWarning: X does not have valid feature names, but LinearRegression was fitted with feature names\n",
            "  warnings.warn(\n"
          ]
        }
      ],
      "source": [
        "# Sales Prediction – Oasis Infobyte\n",
        "\n",
        "# Step 1: Import Libraries\n",
        "import pandas as pd\n",
        "from sklearn.model_selection import train_test_split\n",
        "from sklearn.linear_model import LinearRegression\n",
        "from sklearn.metrics import mean_squared_error, r2_score\n",
        "\n",
        "# Step 2: Load Dataset\n",
        "# Example dataset creation (since no specific dataset provided)\n",
        "data = {\n",
        "    'TV': [230.1, 44.5, 17.2, 151.5, 180.8],\n",
        "    'Radio': [37.8, 39.3, 45.9, 41.3, 10.8],\n",
        "    'Newspaper': [69.2, 45.1, 69.3, 58.5, 58.4],\n",
        "    'Sales': [22.1, 10.4, 9.3, 18.5, 12.9]\n",
        "}\n",
        "df = pd.DataFrame(data)\n",
        "\n",
        "# Step 3: Split Data into Features and Target\n",
        "X = df[['TV', 'Radio', 'Newspaper']]\n",
        "y = df['Sales']\n",
        "\n",
        "# Step 4: Train-test Split\n",
        "X_train, X_test, y_train, y_test = train_test_split(X, y, test_size=0.2, random_state=42)\n",
        "\n",
        "# Step 5: Model Training\n",
        "model = LinearRegression()\n",
        "model.fit(X_train, y_train)\n",
        "\n",
        "# Step 6: Predictions\n",
        "y_pred = model.predict(X_test)\n",
        "\n",
        "# Step 7: Evaluation\n",
        "print(\"Mean Squared Error:\", mean_squared_error(y_test, y_pred))\n",
        "print(\"R2 Score:\", r2_score(y_test, y_pred))\n",
        "\n",
        "# Step 8: Single Prediction Example\n",
        "sample = [[150, 30, 20]]  # TV, Radio, Newspaper budgets\n",
        "predicted_sales = model.predict(sample)\n",
        "print(\"Predicted Sales:\", predicted_sales[0])\n"
      ]
    }
  ]
}
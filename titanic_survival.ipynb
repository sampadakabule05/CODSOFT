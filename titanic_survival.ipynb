{
  "nbformat": 4,
  "nbformat_minor": 0,
  "metadata": {
    "colab": {
      "provenance": []
    },
    "kernelspec": {
      "name": "python3",
      "display_name": "Python 3"
    },
    "language_info": {
      "name": "python"
    }
  },
  "cells": [
    {
      "cell_type": "code",
      "execution_count": 1,
      "metadata": {
        "colab": {
          "base_uri": "https://localhost:8080/"
        },
        "id": "nDE54j4Mi1tz",
        "outputId": "bdaf6c90-8142-4afb-ebd3-847dcd1c4549"
      },
      "outputs": [
        {
          "output_type": "stream",
          "name": "stdout",
          "text": [
            "Accuracy: 0.7696629213483146\n",
            "\n",
            "Classification Report:\n",
            "               precision    recall  f1-score   support\n",
            "\n",
            "           0       0.83      0.78      0.81       109\n",
            "           1       0.68      0.75      0.72        69\n",
            "\n",
            "    accuracy                           0.77       178\n",
            "   macro avg       0.76      0.77      0.76       178\n",
            "weighted avg       0.78      0.77      0.77       178\n",
            "\n",
            "\n",
            "Predicted Survival (1=Survived, 0=Did not survive): 0\n"
          ]
        },
        {
          "output_type": "stream",
          "name": "stderr",
          "text": [
            "/tmp/ipython-input-1-1412361761.py:22: FutureWarning: A value is trying to be set on a copy of a DataFrame or Series through chained assignment using an inplace method.\n",
            "The behavior will change in pandas 3.0. This inplace method will never work because the intermediate object on which we are setting values always behaves as a copy.\n",
            "\n",
            "For example, when doing 'df[col].method(value, inplace=True)', try using 'df.method({col: value}, inplace=True)' or df[col] = df[col].method(value) instead, to perform the operation inplace on the original object.\n",
            "\n",
            "\n",
            "  df['age'].fillna(df['age'].median(), inplace=True)\n",
            "/usr/local/lib/python3.11/dist-packages/sklearn/utils/validation.py:2739: UserWarning: X does not have valid feature names, but DecisionTreeClassifier was fitted with feature names\n",
            "  warnings.warn(\n"
          ]
        }
      ],
      "source": [
        "# Titanic Survival Prediction – CodSoft\n",
        "\n",
        "# Step 1: Import Libraries\n",
        "import pandas as pd\n",
        "from sklearn.model_selection import train_test_split\n",
        "from sklearn.tree import DecisionTreeClassifier\n",
        "from sklearn.metrics import accuracy_score, classification_report\n",
        "\n",
        "# Step 2: Load Dataset\n",
        "# If running in Colab, upload the dataset or read directly if available\n",
        "# Example: Titanic dataset from seaborn or Kaggle\n",
        "\n",
        "# For quick demonstration, load from seaborn\n",
        "import seaborn as sns\n",
        "df = sns.load_dataset('titanic')\n",
        "\n",
        "# Step 3: Data Cleaning\n",
        "# Drop rows with missing 'embarked'\n",
        "df.dropna(subset=['embarked'], inplace=True)\n",
        "\n",
        "# Fill missing 'age' with median\n",
        "df['age'].fillna(df['age'].median(), inplace=True)\n",
        "\n",
        "# Drop columns not needed for basic model\n",
        "df = df[['survived','pclass','sex','age','sibsp','parch','fare','embarked']]\n",
        "\n",
        "# Convert categorical variables\n",
        "df = pd.get_dummies(df, columns=['sex','embarked'], drop_first=True)\n",
        "\n",
        "# Step 4: Split Features and Target\n",
        "X = df.drop('survived', axis=1)\n",
        "y = df['survived']\n",
        "\n",
        "# Step 5: Train-test Split\n",
        "X_train, X_test, y_train, y_test = train_test_split(X, y, test_size=0.2, random_state=42)\n",
        "\n",
        "# Step 6: Model Training\n",
        "model = DecisionTreeClassifier()\n",
        "model.fit(X_train, y_train)\n",
        "\n",
        "# Step 7: Predictions\n",
        "y_pred = model.predict(X_test)\n",
        "\n",
        "# Step 8: Evaluation\n",
        "print(\"Accuracy:\", accuracy_score(y_test, y_pred))\n",
        "print(\"\\nClassification Report:\\n\", classification_report(y_test, y_pred))\n",
        "\n",
        "# Step 9: Single Passenger Prediction Example\n",
        "# Sample: Pclass=3, Age=22, SibSp=1, Parch=0, Fare=7.25, sex_male=1, embarked_Q=0, embarked_S=1\n",
        "sample = [[3, 22, 1, 0, 7.25, 1, 0, 1]]\n",
        "predicted_survival = model.predict(sample)\n",
        "print(\"\\nPredicted Survival (1=Survived, 0=Did not survive):\", predicted_survival[0])\n"
      ]
    }
  ]
}